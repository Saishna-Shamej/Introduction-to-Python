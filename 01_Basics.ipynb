{
  "nbformat": 4,
  "nbformat_minor": 0,
  "metadata": {
    "colab": {
      "provenance": [],
      "authorship_tag": "ABX9TyO76lf6ZblU+7p3U7lIu3lj",
      "include_colab_link": true
    },
    "kernelspec": {
      "name": "python3",
      "display_name": "Python 3"
    },
    "language_info": {
      "name": "python"
    }
  },
  "cells": [
    {
      "cell_type": "markdown",
      "metadata": {
        "id": "view-in-github",
        "colab_type": "text"
      },
      "source": [
        "<a href=\"https://colab.research.google.com/github/Saishna-Shamej/Introduction-to-Python/blob/main/01_Basics.ipynb\" target=\"_parent\"><img src=\"https://colab.research.google.com/assets/colab-badge.svg\" alt=\"Open In Colab\"/></a>"
      ]
    },
    {
      "cell_type": "code",
      "execution_count": null,
      "metadata": {
        "colab": {
          "base_uri": "https://localhost:8080/"
        },
        "id": "BWdX2vXpgVpq",
        "outputId": "9429bb3b-b5f9-40fd-8e3f-d93eed154fb8"
      },
      "outputs": [
        {
          "output_type": "execute_result",
          "data": {
            "text/plain": [
              "45"
            ]
          },
          "metadata": {},
          "execution_count": 1
        }
      ],
      "source": [
        "30+15"
      ]
    },
    {
      "cell_type": "code",
      "source": [
        "30*15"
      ],
      "metadata": {
        "colab": {
          "base_uri": "https://localhost:8080/"
        },
        "id": "W4KwwtNnhvjm",
        "outputId": "7317f1d0-083e-493e-a71c-909b53685707"
      },
      "execution_count": null,
      "outputs": [
        {
          "output_type": "execute_result",
          "data": {
            "text/plain": [
              "450"
            ]
          },
          "metadata": {},
          "execution_count": 2
        }
      ]
    },
    {
      "cell_type": "code",
      "source": [
        "30/15"
      ],
      "metadata": {
        "colab": {
          "base_uri": "https://localhost:8080/"
        },
        "id": "b0lDhlDTiDB6",
        "outputId": "fbb67df5-52b6-4d16-f3d7-f95dbd65b377"
      },
      "execution_count": null,
      "outputs": [
        {
          "output_type": "execute_result",
          "data": {
            "text/plain": [
              "2.0"
            ]
          },
          "metadata": {},
          "execution_count": 3
        }
      ]
    },
    {
      "cell_type": "code",
      "source": [
        "x=10"
      ],
      "metadata": {
        "id": "J-mu_UxYiGdP"
      },
      "execution_count": null,
      "outputs": []
    },
    {
      "cell_type": "code",
      "source": [
        "print(x)"
      ],
      "metadata": {
        "colab": {
          "base_uri": "https://localhost:8080/"
        },
        "id": "1m1FuXBLirlY",
        "outputId": "f7c2dad1-3969-4a09-a53f-07662fd267a6"
      },
      "execution_count": null,
      "outputs": [
        {
          "output_type": "stream",
          "name": "stdout",
          "text": [
            "10\n"
          ]
        }
      ]
    },
    {
      "cell_type": "code",
      "source": [
        "x=10\n",
        "y=20\n",
        "print(x,y)"
      ],
      "metadata": {
        "colab": {
          "base_uri": "https://localhost:8080/"
        },
        "id": "YkKUlVIdiuwU",
        "outputId": "1478d47d-439a-4704-c782-71ab699fd2e2"
      },
      "execution_count": null,
      "outputs": [
        {
          "output_type": "stream",
          "name": "stdout",
          "text": [
            "10 20\n"
          ]
        }
      ]
    },
    {
      "cell_type": "code",
      "source": [
        "x=10\n",
        "y=20\n",
        "print(x+y)\n",
        "print(x-y)\n",
        "print(x*y)\n",
        "print(x/y)"
      ],
      "metadata": {
        "colab": {
          "base_uri": "https://localhost:8080/"
        },
        "id": "2KfKf8UVjOsU",
        "outputId": "97211a78-cb07-41c1-d048-07ce750c590d"
      },
      "execution_count": null,
      "outputs": [
        {
          "output_type": "stream",
          "name": "stdout",
          "text": [
            "30\n",
            "-10\n",
            "200\n",
            "0.5\n"
          ]
        }
      ]
    },
    {
      "cell_type": "code",
      "source": [
        "x='Saishna Shamej'\n",
        "y=\"Saishna Shamej\"\n",
        "z='''Saishna Shamej'''\n",
        "print(x,y,z)"
      ],
      "metadata": {
        "colab": {
          "base_uri": "https://localhost:8080/"
        },
        "id": "5MDgL1cvjuBV",
        "outputId": "7d29a6c6-d6ec-4bbb-c015-2e553e20c9b4"
      },
      "execution_count": null,
      "outputs": [
        {
          "output_type": "stream",
          "name": "stdout",
          "text": [
            "Saishna Shamej Saishna Shamej Saishna Shamej\n"
          ]
        }
      ]
    },
    {
      "cell_type": "code",
      "source": [
        "print(x[0])"
      ],
      "metadata": {
        "colab": {
          "base_uri": "https://localhost:8080/"
        },
        "id": "i8bxqJT6k9G2",
        "outputId": "2b92272b-ef17-4076-a353-722104ec62fe"
      },
      "execution_count": null,
      "outputs": [
        {
          "output_type": "stream",
          "name": "stdout",
          "text": [
            "S\n"
          ]
        }
      ]
    },
    {
      "cell_type": "code",
      "source": [
        "print(x[12])"
      ],
      "metadata": {
        "colab": {
          "base_uri": "https://localhost:8080/"
        },
        "id": "XR6Y_dK8mBVs",
        "outputId": "73c85c99-b824-4fec-f729-052c262c850b"
      },
      "execution_count": null,
      "outputs": [
        {
          "output_type": "stream",
          "name": "stdout",
          "text": [
            "e\n"
          ]
        }
      ]
    },
    {
      "cell_type": "code",
      "source": [
        "print(x[13])"
      ],
      "metadata": {
        "colab": {
          "base_uri": "https://localhost:8080/"
        },
        "id": "YgF_Zq7VmgPV",
        "outputId": "b461a30e-fcbb-46ab-b55a-6a9283a9d1ba"
      },
      "execution_count": null,
      "outputs": [
        {
          "output_type": "stream",
          "name": "stdout",
          "text": [
            "j\n"
          ]
        }
      ]
    },
    {
      "cell_type": "code",
      "source": [
        "print(x[-1])"
      ],
      "metadata": {
        "colab": {
          "base_uri": "https://localhost:8080/"
        },
        "id": "o9hvR_PQmkfV",
        "outputId": "9705aa0b-89b0-44cc-db20-a65a87e9d4f7"
      },
      "execution_count": null,
      "outputs": [
        {
          "output_type": "stream",
          "name": "stdout",
          "text": [
            "j\n"
          ]
        }
      ]
    },
    {
      "cell_type": "code",
      "source": [
        "print(x[-14])"
      ],
      "metadata": {
        "colab": {
          "base_uri": "https://localhost:8080/"
        },
        "id": "6S4tjNC_nGrS",
        "outputId": "36424194-e89a-4582-993d-024e909c091c"
      },
      "execution_count": null,
      "outputs": [
        {
          "output_type": "stream",
          "name": "stdout",
          "text": [
            "S\n"
          ]
        }
      ]
    },
    {
      "cell_type": "code",
      "source": [
        "print(x[0:1])"
      ],
      "metadata": {
        "colab": {
          "base_uri": "https://localhost:8080/"
        },
        "id": "BUkPWg0inYEl",
        "outputId": "ebdeeed1-4cb7-4544-b2b7-fb8eaa0c5672"
      },
      "execution_count": null,
      "outputs": [
        {
          "output_type": "stream",
          "name": "stdout",
          "text": [
            "S\n"
          ]
        }
      ]
    },
    {
      "cell_type": "code",
      "source": [
        "print(x[0:7])"
      ],
      "metadata": {
        "colab": {
          "base_uri": "https://localhost:8080/"
        },
        "id": "POxWE3dSoUqQ",
        "outputId": "2437b8c8-f67c-43b3-ca29-b60e7ec3fb4c"
      },
      "execution_count": null,
      "outputs": [
        {
          "output_type": "stream",
          "name": "stdout",
          "text": [
            "Saishna\n"
          ]
        }
      ]
    },
    {
      "cell_type": "code",
      "source": [
        "print(x[-7:-1])"
      ],
      "metadata": {
        "colab": {
          "base_uri": "https://localhost:8080/"
        },
        "id": "uFsemo8docgJ",
        "outputId": "6417480a-3a7c-4389-b010-6744e5872883"
      },
      "execution_count": null,
      "outputs": [
        {
          "output_type": "stream",
          "name": "stdout",
          "text": [
            " Shame\n"
          ]
        }
      ]
    },
    {
      "cell_type": "code",
      "source": [
        "print(x[-7:])"
      ],
      "metadata": {
        "colab": {
          "base_uri": "https://localhost:8080/"
        },
        "id": "4sPOY2Rko47e",
        "outputId": "c9b26cd3-dc3d-4fde-bdc4-cd3370e574b8"
      },
      "execution_count": null,
      "outputs": [
        {
          "output_type": "stream",
          "name": "stdout",
          "text": [
            " Shamej\n"
          ]
        }
      ]
    },
    {
      "cell_type": "code",
      "source": [
        "x=\"Saishna\"\n",
        "y=\"Shamej\"\n",
        "print(x+y)"
      ],
      "metadata": {
        "colab": {
          "base_uri": "https://localhost:8080/"
        },
        "id": "dIlgRNpgp4yg",
        "outputId": "cd705886-05fd-4f4f-9ecf-8433b21c9b5f"
      },
      "execution_count": null,
      "outputs": [
        {
          "output_type": "stream",
          "name": "stdout",
          "text": [
            "SaishnaShamej\n"
          ]
        }
      ]
    },
    {
      "cell_type": "code",
      "source": [
        "print(x+\" \"+y)"
      ],
      "metadata": {
        "colab": {
          "base_uri": "https://localhost:8080/"
        },
        "id": "Yu7ToEF9tvt1",
        "outputId": "a540c56d-3f14-4113-dbb9-e51eea60b87f"
      },
      "execution_count": null,
      "outputs": [
        {
          "output_type": "stream",
          "name": "stdout",
          "text": [
            "Saishna Shamej\n"
          ]
        }
      ]
    },
    {
      "cell_type": "code",
      "source": [
        "x=\"10\"\n",
        "y=\"20\"\n",
        "x+y"
      ],
      "metadata": {
        "colab": {
          "base_uri": "https://localhost:8080/",
          "height": 36
        },
        "id": "pK6STd1EuE1s",
        "outputId": "004570c0-7971-4e8a-c9b4-e4534a66da4d"
      },
      "execution_count": null,
      "outputs": [
        {
          "output_type": "execute_result",
          "data": {
            "text/plain": [
              "'1020'"
            ],
            "application/vnd.google.colaboratory.intrinsic+json": {
              "type": "string"
            }
          },
          "metadata": {},
          "execution_count": 20
        }
      ]
    },
    {
      "cell_type": "code",
      "source": [
        "x=10\n",
        "print(type(x))"
      ],
      "metadata": {
        "colab": {
          "base_uri": "https://localhost:8080/"
        },
        "id": "Si_9AmnCue2G",
        "outputId": "b556113e-4878-4a27-a138-959ec163d9ed"
      },
      "execution_count": null,
      "outputs": [
        {
          "output_type": "stream",
          "name": "stdout",
          "text": [
            "<class 'int'>\n"
          ]
        }
      ]
    },
    {
      "cell_type": "code",
      "source": [
        "x=10.5\n",
        "print(type(x))"
      ],
      "metadata": {
        "colab": {
          "base_uri": "https://localhost:8080/"
        },
        "id": "EXS9R18NvTE6",
        "outputId": "3319de4e-8da1-4498-8e8b-f05e6bd10f9f"
      },
      "execution_count": null,
      "outputs": [
        {
          "output_type": "stream",
          "name": "stdout",
          "text": [
            "<class 'float'>\n"
          ]
        }
      ]
    },
    {
      "cell_type": "code",
      "source": [
        "x=\"Saishna Shamej\"\n",
        "print(type(x))"
      ],
      "metadata": {
        "colab": {
          "base_uri": "https://localhost:8080/"
        },
        "id": "P0RKayUfvhrz",
        "outputId": "9931f05f-59c5-49e8-da0e-cfceef58d20f"
      },
      "execution_count": null,
      "outputs": [
        {
          "output_type": "stream",
          "name": "stdout",
          "text": [
            "<class 'str'>\n"
          ]
        }
      ]
    },
    {
      "cell_type": "code",
      "source": [
        "x=input(\"Enter your name:\")"
      ],
      "metadata": {
        "colab": {
          "base_uri": "https://localhost:8080/"
        },
        "id": "o3fZf7OuvxE_",
        "outputId": "9a4eff28-2d79-4661-b65f-e4407c44ba59"
      },
      "execution_count": null,
      "outputs": [
        {
          "name": "stdout",
          "output_type": "stream",
          "text": [
            "Enter your name:Saishna Shamej\n"
          ]
        }
      ]
    },
    {
      "cell_type": "code",
      "source": [
        "print(x)"
      ],
      "metadata": {
        "colab": {
          "base_uri": "https://localhost:8080/"
        },
        "id": "eR7hmcUKwAYd",
        "outputId": "9609faba-f258-4df0-8557-0f14fce4bda2"
      },
      "execution_count": null,
      "outputs": [
        {
          "output_type": "stream",
          "name": "stdout",
          "text": [
            "Saishna Shamej\n"
          ]
        }
      ]
    },
    {
      "cell_type": "code",
      "source": [
        "y=input(\"Enter your age : \")"
      ],
      "metadata": {
        "colab": {
          "base_uri": "https://localhost:8080/"
        },
        "id": "EOPw0zmawKab",
        "outputId": "dab808a1-7393-4d34-a8e1-bc7111e42e69"
      },
      "execution_count": null,
      "outputs": [
        {
          "name": "stdout",
          "output_type": "stream",
          "text": [
            "Enter your age : 20\n"
          ]
        }
      ]
    },
    {
      "cell_type": "code",
      "source": [
        "print(y)"
      ],
      "metadata": {
        "colab": {
          "base_uri": "https://localhost:8080/"
        },
        "id": "62rYApvvwVfl",
        "outputId": "70dec715-2380-4b27-bd10-c49b4da687e6"
      },
      "execution_count": null,
      "outputs": [
        {
          "output_type": "stream",
          "name": "stdout",
          "text": [
            "20\n"
          ]
        }
      ]
    },
    {
      "cell_type": "code",
      "source": [
        "z=int(input(\"Enter your marks : \"))"
      ],
      "metadata": {
        "colab": {
          "base_uri": "https://localhost:8080/"
        },
        "id": "zW7kxpe-wYmy",
        "outputId": "081ac630-8503-4677-ac7d-58c52118edd2"
      },
      "execution_count": null,
      "outputs": [
        {
          "name": "stdout",
          "output_type": "stream",
          "text": [
            "Enter your marks : 94\n"
          ]
        }
      ]
    },
    {
      "cell_type": "code",
      "source": [
        "type(z)\n"
      ],
      "metadata": {
        "colab": {
          "base_uri": "https://localhost:8080/"
        },
        "id": "Qbi8Qdn5wiM9",
        "outputId": "af98d977-d6ff-45bb-dec9-b0e0ea013f71"
      },
      "execution_count": null,
      "outputs": [
        {
          "output_type": "execute_result",
          "data": {
            "text/plain": [
              "int"
            ]
          },
          "metadata": {},
          "execution_count": 29
        }
      ]
    },
    {
      "cell_type": "code",
      "source": [
        "x=22\n",
        "y=12\n",
        "print(x+y)\n",
        "print(x-y)"
      ],
      "metadata": {
        "colab": {
          "base_uri": "https://localhost:8080/"
        },
        "id": "m_qoYr9NwpdL",
        "outputId": "67a86c7d-cbb0-4c0f-a617-fba0ee1656c7"
      },
      "execution_count": null,
      "outputs": [
        {
          "output_type": "stream",
          "name": "stdout",
          "text": [
            "34\n",
            "10\n"
          ]
        }
      ]
    },
    {
      "cell_type": "code",
      "source": [
        "print(x*y)\n",
        "print(x/y)"
      ],
      "metadata": {
        "colab": {
          "base_uri": "https://localhost:8080/"
        },
        "id": "TlIn0nGYxnJN",
        "outputId": "2c917504-4f63-4283-c24f-ea39b11cb1e4"
      },
      "execution_count": null,
      "outputs": [
        {
          "output_type": "stream",
          "name": "stdout",
          "text": [
            "264\n",
            "1.8333333333333333\n"
          ]
        }
      ]
    },
    {
      "cell_type": "code",
      "source": [
        "x=int(input(\"Enter a value: \"))\n",
        "y=int(input(\"Enter a value: \"))"
      ],
      "metadata": {
        "colab": {
          "base_uri": "https://localhost:8080/"
        },
        "id": "Jqkm3y7exs2D",
        "outputId": "3abd9499-d775-4a41-dde2-847be549c389"
      },
      "execution_count": null,
      "outputs": [
        {
          "name": "stdout",
          "output_type": "stream",
          "text": [
            "Enter a value: 22\n",
            "Enter a value: 12\n"
          ]
        }
      ]
    },
    {
      "cell_type": "code",
      "source": [
        "print(x+y)\n",
        "print(x-y)\n",
        "print(x*y)\n",
        "print(x/y)"
      ],
      "metadata": {
        "colab": {
          "base_uri": "https://localhost:8080/"
        },
        "id": "BY3XO-EpyJbv",
        "outputId": "d232e676-79f4-45e4-ea9e-e4dff3796832"
      },
      "execution_count": null,
      "outputs": [
        {
          "output_type": "stream",
          "name": "stdout",
          "text": [
            "34\n",
            "10\n",
            "264\n",
            "1.8333333333333333\n"
          ]
        }
      ]
    },
    {
      "cell_type": "code",
      "source": [
        "I=int(input(\"Enter the current: \"))\n",
        "R=int(input(\"Enter the resistance: \"))\n",
        "V=I*R \n",
        "print('volatge= ',V )"
      ],
      "metadata": {
        "colab": {
          "base_uri": "https://localhost:8080/"
        },
        "id": "JyqiVTPLyVqR",
        "outputId": "7b196b14-440f-4ee9-a3c9-51500eb93acc"
      },
      "execution_count": null,
      "outputs": [
        {
          "output_type": "stream",
          "name": "stdout",
          "text": [
            "Enter the current: 15\n",
            "Enter the resistance: 30\n",
            "volatge=  450\n"
          ]
        }
      ]
    },
    {
      "cell_type": "code",
      "source": [
        "x=int(input(\"Enter your marks : \"))\n",
        "if x>50:\n",
        "  print(\" you are passed\")\n",
        "if x==50 :\n",
        "  print('you are just passed')"
      ],
      "metadata": {
        "colab": {
          "base_uri": "https://localhost:8080/"
        },
        "id": "F-sYGTQrzRUG",
        "outputId": "d64edf17-64eb-444d-8af5-ce2afc5fb59d"
      },
      "execution_count": null,
      "outputs": [
        {
          "output_type": "stream",
          "name": "stdout",
          "text": [
            "Enter your marks : 94\n",
            " you are passed\n"
          ]
        }
      ]
    },
    {
      "cell_type": "code",
      "source": [
        "x=int(input(\"Enter your marks : \"))\n",
        "if x>0 and x<49:\n",
        "  print(\"you are failed\")\n",
        "if x>50 and x<60:\n",
        "  print(\" passed with second class\")\n",
        "if x>61 and x<80:\n",
        "  print(\" passed with first class \")\n",
        "if x>81 :\n",
        "  print(\" passed with distinction\")"
      ],
      "metadata": {
        "colab": {
          "base_uri": "https://localhost:8080/"
        },
        "id": "944YrJm-1akh",
        "outputId": "f7596db8-fd49-474a-f898-b48d830f6364"
      },
      "execution_count": null,
      "outputs": [
        {
          "output_type": "stream",
          "name": "stdout",
          "text": [
            "Enter your marks : 94\n",
            " passed with distinction\n"
          ]
        }
      ]
    },
    {
      "cell_type": "code",
      "source": [
        "x=int(input(\"Enter your marks: \"))\n",
        "if x>80:\n",
        "  y=int(input(\"enter number of supplementaries\"))\n",
        "if y==0:\n",
        "  print(\"you have got a distinction\")\n",
        "else :\n",
        "  print(\"your marks are insufficient\")\n"
      ],
      "metadata": {
        "colab": {
          "base_uri": "https://localhost:8080/"
        },
        "id": "bMjKJOu13PyS",
        "outputId": "2f92a7d0-81ac-41b5-8994-22ce48780515"
      },
      "execution_count": null,
      "outputs": [
        {
          "output_type": "stream",
          "name": "stdout",
          "text": [
            "Enter your marks: 55\n",
            "your marks are insufficient\n"
          ]
        }
      ]
    },
    {
      "cell_type": "code",
      "source": [
        "x=int(input(\"Enter a number\"))\n",
        "if x%2==0:\n",
        "  print(\"the number is even\")\n",
        "if x%2==1:\n",
        "  print(\"the number is odd\")"
      ],
      "metadata": {
        "id": "FwJX8LWg4ld4",
        "colab": {
          "base_uri": "https://localhost:8080/"
        },
        "outputId": "fd638eba-2f7d-4c1c-c874-a2bccb42c575"
      },
      "execution_count": null,
      "outputs": [
        {
          "output_type": "stream",
          "name": "stdout",
          "text": [
            "Enter a number44\n",
            "the number is even\n"
          ]
        }
      ]
    },
    {
      "cell_type": "code",
      "source": [
        "for k in range(10):\n",
        "  print(k)"
      ],
      "metadata": {
        "colab": {
          "base_uri": "https://localhost:8080/"
        },
        "id": "VHO4XgiiJNUV",
        "outputId": "ec83cbc7-96d2-4d39-fb5c-582d4ce0176e"
      },
      "execution_count": null,
      "outputs": [
        {
          "output_type": "stream",
          "name": "stdout",
          "text": [
            "0\n",
            "1\n",
            "2\n",
            "3\n",
            "4\n",
            "5\n",
            "6\n",
            "7\n",
            "8\n",
            "9\n"
          ]
        }
      ]
    },
    {
      "cell_type": "code",
      "source": [
        "for k in range(10):\n",
        "  if k%2==0:\n",
        "   print(k)"
      ],
      "metadata": {
        "colab": {
          "base_uri": "https://localhost:8080/"
        },
        "id": "6Q8i0dZUJ-r9",
        "outputId": "7c1a95c7-46a6-4c9e-8bc9-96d070a3a7fe"
      },
      "execution_count": null,
      "outputs": [
        {
          "output_type": "stream",
          "name": "stdout",
          "text": [
            "0\n",
            "2\n",
            "4\n",
            "6\n",
            "8\n"
          ]
        }
      ]
    },
    {
      "cell_type": "code",
      "source": [
        "for k in range(10):\n",
        "  if k%2==1:\n",
        "   print(k)"
      ],
      "metadata": {
        "colab": {
          "base_uri": "https://localhost:8080/"
        },
        "id": "xD7iBEdNKeCn",
        "outputId": "1674b1c6-e809-4c6f-b910-3bba1a1578db"
      },
      "execution_count": null,
      "outputs": [
        {
          "output_type": "stream",
          "name": "stdout",
          "text": [
            "1\n",
            "3\n",
            "5\n",
            "7\n",
            "9\n"
          ]
        }
      ]
    },
    {
      "cell_type": "code",
      "source": [
        "nb=0\n",
        "for k in range(10):\n",
        " nb=k+nb\n",
        " print(nb)"
      ],
      "metadata": {
        "colab": {
          "base_uri": "https://localhost:8080/"
        },
        "id": "H4HBFM40K2Mc",
        "outputId": "ed4226eb-42eb-4cbc-bf7d-550f15ea0649"
      },
      "execution_count": null,
      "outputs": [
        {
          "output_type": "stream",
          "name": "stdout",
          "text": [
            "0\n",
            "1\n",
            "3\n",
            "6\n",
            "10\n",
            "15\n",
            "21\n",
            "28\n",
            "36\n",
            "45\n"
          ]
        }
      ]
    },
    {
      "cell_type": "code",
      "source": [
        "nb=0\n",
        "for k in range(10):\n",
        "  if k%2==0:\n",
        "   nb=k+nb\n",
        "   print(nb)"
      ],
      "metadata": {
        "colab": {
          "base_uri": "https://localhost:8080/"
        },
        "id": "_zn7jcPSOyYQ",
        "outputId": "122f816a-8832-468c-b00f-cb6c193777a6"
      },
      "execution_count": null,
      "outputs": [
        {
          "output_type": "stream",
          "name": "stdout",
          "text": [
            "0\n",
            "2\n",
            "6\n",
            "12\n",
            "20\n"
          ]
        }
      ]
    },
    {
      "cell_type": "code",
      "source": [
        "nb=1\n",
        "for k in range(1,100):\n",
        "  nb=k*nb \n",
        "  print(nb)"
      ],
      "metadata": {
        "colab": {
          "base_uri": "https://localhost:8080/"
        },
        "id": "U2I-7YYyPbeO",
        "outputId": "452be2db-3d9e-4ac3-a59a-1ae82d44b6c8"
      },
      "execution_count": null,
      "outputs": [
        {
          "output_type": "stream",
          "name": "stdout",
          "text": [
            "1\n",
            "2\n",
            "6\n",
            "24\n",
            "120\n",
            "720\n",
            "5040\n",
            "40320\n",
            "362880\n",
            "3628800\n",
            "39916800\n",
            "479001600\n",
            "6227020800\n",
            "87178291200\n",
            "1307674368000\n",
            "20922789888000\n",
            "355687428096000\n",
            "6402373705728000\n",
            "121645100408832000\n",
            "2432902008176640000\n",
            "51090942171709440000\n",
            "1124000727777607680000\n",
            "25852016738884976640000\n",
            "620448401733239439360000\n",
            "15511210043330985984000000\n",
            "403291461126605635584000000\n",
            "10888869450418352160768000000\n",
            "304888344611713860501504000000\n",
            "8841761993739701954543616000000\n",
            "265252859812191058636308480000000\n",
            "8222838654177922817725562880000000\n",
            "263130836933693530167218012160000000\n",
            "8683317618811886495518194401280000000\n",
            "295232799039604140847618609643520000000\n",
            "10333147966386144929666651337523200000000\n",
            "371993326789901217467999448150835200000000\n",
            "13763753091226345046315979581580902400000000\n",
            "523022617466601111760007224100074291200000000\n",
            "20397882081197443358640281739902897356800000000\n",
            "815915283247897734345611269596115894272000000000\n",
            "33452526613163807108170062053440751665152000000000\n",
            "1405006117752879898543142606244511569936384000000000\n",
            "60415263063373835637355132068513997507264512000000000\n",
            "2658271574788448768043625811014615890319638528000000000\n",
            "119622220865480194561963161495657715064383733760000000000\n",
            "5502622159812088949850305428800254892961651752960000000000\n",
            "258623241511168180642964355153611979969197632389120000000000\n",
            "12413915592536072670862289047373375038521486354677760000000000\n",
            "608281864034267560872252163321295376887552831379210240000000000\n",
            "30414093201713378043612608166064768844377641568960512000000000000\n",
            "1551118753287382280224243016469303211063259720016986112000000000000\n",
            "80658175170943878571660636856403766975289505440883277824000000000000\n",
            "4274883284060025564298013753389399649690343788366813724672000000000000\n",
            "230843697339241380472092742683027581083278564571807941132288000000000000\n",
            "12696403353658275925965100847566516959580321051449436762275840000000000000\n",
            "710998587804863451854045647463724949736497978881168458687447040000000000000\n",
            "40526919504877216755680601905432322134980384796226602145184481280000000000000\n",
            "2350561331282878571829474910515074683828862318181142924420699914240000000000000\n",
            "138683118545689835737939019720389406345902876772687432540821294940160000000000000\n",
            "8320987112741390144276341183223364380754172606361245952449277696409600000000000000\n",
            "507580213877224798800856812176625227226004528988036003099405939480985600000000000000\n",
            "31469973260387937525653122354950764088012280797258232192163168247821107200000000000000\n",
            "1982608315404440064116146708361898137544773690227268628106279599612729753600000000000000\n",
            "126886932185884164103433389335161480802865516174545192198801894375214704230400000000000000\n",
            "8247650592082470666723170306785496252186258551345437492922123134388955774976000000000000000\n",
            "544344939077443064003729240247842752644293064388798874532860126869671081148416000000000000000\n",
            "36471110918188685288249859096605464427167635314049524593701628500267962436943872000000000000000\n",
            "2480035542436830599600990418569171581047399201355367672371710738018221445712183296000000000000000\n",
            "171122452428141311372468338881272839092270544893520369393648040923257279754140647424000000000000000\n",
            "11978571669969891796072783721689098736458938142546425857555362864628009582789845319680000000000000000\n",
            "850478588567862317521167644239926010288584608120796235886430763388588680378079017697280000000000000000\n",
            "61234458376886086861524070385274672740778091784697328983823014963978384987221689274204160000000000000000\n",
            "4470115461512684340891257138125051110076800700282905015819080092370422104067183317016903680000000000000000\n",
            "330788544151938641225953028221253782145683251820934971170611926835411235700971565459250872320000000000000000\n",
            "24809140811395398091946477116594033660926243886570122837795894512655842677572867409443815424000000000000000000\n",
            "1885494701666050254987932260861146558230394535379329335672487982961844043495537923117729972224000000000000000000\n",
            "145183092028285869634070784086308284983740379224208358846781574688061991349156420080065207861248000000000000000000\n",
            "11324281178206297831457521158732046228731749579488251990048962825668835325234200766245086213177344000000000000000000\n",
            "894618213078297528685144171539831652069808216779571907213868063227837990693501860533361810841010176000000000000000000\n",
            "71569457046263802294811533723186532165584657342365752577109445058227039255480148842668944867280814080000000000000000000\n",
            "5797126020747367985879734231578109105412357244731625958745865049716390179693892056256184534249745940480000000000000000000\n",
            "475364333701284174842138206989404946643813294067993328617160934076743994734899148613007131808479167119360000000000000000000\n",
            "39455239697206586511897471180120610571436503407643446275224357528369751562996629334879591940103770870906880000000000000000000\n",
            "3314240134565353266999387579130131288000666286242049487118846032383059131291716864129885722968716753156177920000000000000000000\n",
            "281710411438055027694947944226061159480056634330574206405101912752560026159795933451040286452340924018275123200000000000000000000\n",
            "24227095383672732381765523203441259715284870552429381750838764496720162249742450276789464634901319465571660595200000000000000000000\n",
            "2107757298379527717213600518699389595229783738061356212322972511214654115727593174080683423236414793504734471782400000000000000000000\n",
            "185482642257398439114796845645546284380220968949399346684421580986889562184028199319100141244804501828416633516851200000000000000000000\n",
            "16507955160908461081216919262453619309839666236496541854913520707833171034378509739399912570787600662729080382999756800000000000000000000\n",
            "1485715964481761497309522733620825737885569961284688766942216863704985393094065876545992131370884059645617234469978112000000000000000000000\n",
            "135200152767840296255166568759495142147586866476906677791741734597153670771559994765685283954750449427751168336768008192000000000000000000000\n",
            "12438414054641307255475324325873553077577991715875414356840239582938137710983519518443046123837041347353107486982656753664000000000000000000000\n",
            "1156772507081641574759205162306240436214753229576413535186142281213246807121467315215203289516844845303838996289387078090752000000000000000000000\n",
            "108736615665674308027365285256786601004186803580182872307497374434045199869417927630229109214583415458560865651202385340530688000000000000000000000\n",
            "10329978488239059262599702099394727095397746340117372869212250571234293987594703124871765375385424468563282236864226607350415360000000000000000000000\n",
            "991677934870949689209571401541893801158183648651267795444376054838492222809091499987689476037000748982075094738965754305639874560000000000000000000000\n",
            "96192759682482119853328425949563698712343813919172976158104477319333745612481875498805879175589072651261284189679678167647067832320000000000000000000000\n",
            "9426890448883247745626185743057242473809693764078951663494238777294707070023223798882976159207729119823605850588608460429412647567360000000000000000000000\n",
            "933262154439441526816992388562667004907159682643816214685929638952175999932299156089414639761565182862536979208272237582511852109168640000000000000000000000\n"
          ]
        }
      ]
    },
    {
      "cell_type": "code",
      "source": [
        "for k in range(100):\n",
        "  if k==5:\n",
        "   break;\n",
        "  print(k)"
      ],
      "metadata": {
        "colab": {
          "base_uri": "https://localhost:8080/"
        },
        "id": "uRGkv-hfRV9N",
        "outputId": "a56844a9-f5b5-45ef-d050-b831270c3a60"
      },
      "execution_count": null,
      "outputs": [
        {
          "output_type": "stream",
          "name": "stdout",
          "text": [
            "0\n",
            "1\n",
            "2\n",
            "3\n",
            "4\n"
          ]
        }
      ]
    },
    {
      "cell_type": "code",
      "source": [
        "nb=0\n",
        "for k in range(100):\n",
        "  x=int(input(\"enter a number\"))\n",
        "  nb=nb+x\n",
        "  y=int(input(\"press 0 if finished else press 1\"))\n",
        "  if y==0:\n",
        "      break;\n",
        "  print(nb)"
      ],
      "metadata": {
        "colab": {
          "base_uri": "https://localhost:8080/"
        },
        "id": "PUUq9nc4S89O",
        "outputId": "ea3e3043-10a0-44d4-c005-d1548c69d80f"
      },
      "execution_count": null,
      "outputs": [
        {
          "name": "stdout",
          "output_type": "stream",
          "text": [
            "enter a number12\n",
            "press 0 if finished else press 10\n"
          ]
        }
      ]
    },
    {
      "cell_type": "code",
      "source": [
        "k=0\n",
        "nb=0\n",
        "while(k<100):\n",
        " k=k+1\n",
        " nb=nb+k\n",
        "print(nb)"
      ],
      "metadata": {
        "colab": {
          "base_uri": "https://localhost:8080/"
        },
        "id": "1_hXr43bW1g3",
        "outputId": "968a48ae-cb47-493a-8070-cb4a99068b81"
      },
      "execution_count": null,
      "outputs": [
        {
          "output_type": "stream",
          "name": "stdout",
          "text": [
            "5050\n"
          ]
        }
      ]
    },
    {
      "cell_type": "code",
      "source": [
        "  k=0\n",
        "  nb=0\n",
        "  while(k<100):\n",
        "    if k%2==1:\n",
        "      nb=nb+k\n",
        "    k=k+1\n",
        "  print(nb)"
      ],
      "metadata": {
        "colab": {
          "base_uri": "https://localhost:8080/"
        },
        "id": "liZGvlGfcnAx",
        "outputId": "2d901bf8-1581-47f9-96ec-29ce089d24ad"
      },
      "execution_count": null,
      "outputs": [
        {
          "output_type": "stream",
          "name": "stdout",
          "text": [
            "2500\n"
          ]
        }
      ]
    },
    {
      "cell_type": "code",
      "source": [
        "for x in range(10):\n",
        "  if x==5:\n",
        "    continue;\n",
        "  print(x)"
      ],
      "metadata": {
        "colab": {
          "base_uri": "https://localhost:8080/"
        },
        "id": "e0e7HjZteONC",
        "outputId": "02f2577e-5007-44a1-a923-1f2b41968c49"
      },
      "execution_count": null,
      "outputs": [
        {
          "output_type": "stream",
          "name": "stdout",
          "text": [
            "0\n",
            "1\n",
            "2\n",
            "3\n",
            "4\n",
            "6\n",
            "7\n",
            "8\n",
            "9\n"
          ]
        }
      ]
    },
    {
      "cell_type": "code",
      "source": [
        "for x in range(100):\n",
        "  if x==5:\n",
        "    continue;\n",
        "  if x==55:\n",
        "    continue;\n",
        "  print(x)"
      ],
      "metadata": {
        "colab": {
          "base_uri": "https://localhost:8080/"
        },
        "id": "p1D1F5gNfz53",
        "outputId": "cb9204fd-2a68-4716-a0be-3323103b3175"
      },
      "execution_count": null,
      "outputs": [
        {
          "output_type": "stream",
          "name": "stdout",
          "text": [
            "0\n",
            "1\n",
            "2\n",
            "3\n",
            "4\n",
            "6\n",
            "7\n",
            "8\n",
            "9\n",
            "10\n",
            "11\n",
            "12\n",
            "13\n",
            "14\n",
            "15\n",
            "16\n",
            "17\n",
            "18\n",
            "19\n",
            "20\n",
            "21\n",
            "22\n",
            "23\n",
            "24\n",
            "25\n",
            "26\n",
            "27\n",
            "28\n",
            "29\n",
            "30\n",
            "31\n",
            "32\n",
            "33\n",
            "34\n",
            "35\n",
            "36\n",
            "37\n",
            "38\n",
            "39\n",
            "40\n",
            "41\n",
            "42\n",
            "43\n",
            "44\n",
            "45\n",
            "46\n",
            "47\n",
            "48\n",
            "49\n",
            "50\n",
            "51\n",
            "52\n",
            "53\n",
            "54\n",
            "56\n",
            "57\n",
            "58\n",
            "59\n",
            "60\n",
            "61\n",
            "62\n",
            "63\n",
            "64\n",
            "65\n",
            "66\n",
            "67\n",
            "68\n",
            "69\n",
            "70\n",
            "71\n",
            "72\n",
            "73\n",
            "74\n",
            "75\n",
            "76\n",
            "77\n",
            "78\n",
            "79\n",
            "80\n",
            "81\n",
            "82\n",
            "83\n",
            "84\n",
            "85\n",
            "86\n",
            "87\n",
            "88\n",
            "89\n",
            "90\n",
            "91\n",
            "92\n",
            "93\n",
            "94\n",
            "95\n",
            "96\n",
            "97\n",
            "98\n",
            "99\n"
          ]
        }
      ]
    },
    {
      "cell_type": "code",
      "source": [
        "for x in range(100):\n",
        "  if x%2==1:\n",
        "    continue;\n",
        "  print(x)"
      ],
      "metadata": {
        "colab": {
          "base_uri": "https://localhost:8080/"
        },
        "id": "PLsFEjOagUVO",
        "outputId": "24dad4b7-1116-470d-863a-1f60b87db78e"
      },
      "execution_count": null,
      "outputs": [
        {
          "output_type": "stream",
          "name": "stdout",
          "text": [
            "0\n",
            "2\n",
            "4\n",
            "6\n",
            "8\n",
            "10\n",
            "12\n",
            "14\n",
            "16\n",
            "18\n",
            "20\n",
            "22\n",
            "24\n",
            "26\n",
            "28\n",
            "30\n",
            "32\n",
            "34\n",
            "36\n",
            "38\n",
            "40\n",
            "42\n",
            "44\n",
            "46\n",
            "48\n",
            "50\n",
            "52\n",
            "54\n",
            "56\n",
            "58\n",
            "60\n",
            "62\n",
            "64\n",
            "66\n",
            "68\n",
            "70\n",
            "72\n",
            "74\n",
            "76\n",
            "78\n",
            "80\n",
            "82\n",
            "84\n",
            "86\n",
            "88\n",
            "90\n",
            "92\n",
            "94\n",
            "96\n",
            "98\n"
          ]
        }
      ]
    },
    {
      "cell_type": "code",
      "source": [
        "x=[1,2,5,9,\"India\",21.6]\n",
        "print(x[0])\n",
        "print(x[5])\n",
        "x[0:3]\n",
        "x[-2:]"
      ],
      "metadata": {
        "colab": {
          "base_uri": "https://localhost:8080/"
        },
        "id": "17ISkUFQjvdp",
        "outputId": "e6493aa9-18a9-4a32-a6f6-68eb13d35689"
      },
      "execution_count": null,
      "outputs": [
        {
          "output_type": "stream",
          "name": "stdout",
          "text": [
            "1\n",
            "21.6\n"
          ]
        },
        {
          "output_type": "execute_result",
          "data": {
            "text/plain": [
              "['India', 21.6]"
            ]
          },
          "metadata": {},
          "execution_count": 52
        }
      ]
    },
    {
      "cell_type": "code",
      "source": [
        "x.append(\"Saishna\")\n",
        "print(x)"
      ],
      "metadata": {
        "colab": {
          "base_uri": "https://localhost:8080/"
        },
        "id": "2imbx_imldQm",
        "outputId": "77532847-75ca-46a5-ea67-5d855f2c9d5e"
      },
      "execution_count": null,
      "outputs": [
        {
          "output_type": "stream",
          "name": "stdout",
          "text": [
            "[1, 2, 5, 9, 'India', 21.6, 'Saishna']\n"
          ]
        }
      ]
    },
    {
      "cell_type": "code",
      "source": [
        "x.insert(5,\"Ashik\")\n",
        "print(x)"
      ],
      "metadata": {
        "colab": {
          "base_uri": "https://localhost:8080/"
        },
        "id": "VkKtUfTQpKLU",
        "outputId": "e6fabcdc-5fe7-4d8f-efbb-65438c80013c"
      },
      "execution_count": null,
      "outputs": [
        {
          "output_type": "stream",
          "name": "stdout",
          "text": [
            "[1, 2, 5, 9, 'India', 'Ashik', 21.6, 'Saishna']\n"
          ]
        }
      ]
    },
    {
      "cell_type": "code",
      "source": [
        "x[6]=\"Geethika\"\n",
        "print(x)"
      ],
      "metadata": {
        "colab": {
          "base_uri": "https://localhost:8080/"
        },
        "id": "PAWqdqXqpxaQ",
        "outputId": "eb3fd495-b673-4052-98ed-3a908a46c000"
      },
      "execution_count": null,
      "outputs": [
        {
          "output_type": "stream",
          "name": "stdout",
          "text": [
            "[1, 2, 5, 9, 'India', 'Ashik', 'Geethika', 'Saishna']\n"
          ]
        }
      ]
    },
    {
      "cell_type": "code",
      "source": [
        "t=x[0]\n",
        "x[0]=x[-1]\n",
        "x[-1]=t\n",
        "print(x)\n"
      ],
      "metadata": {
        "colab": {
          "base_uri": "https://localhost:8080/"
        },
        "id": "95cIQyYfqZfh",
        "outputId": "b6f89de1-efab-4715-a04a-cd87279b02f2"
      },
      "execution_count": null,
      "outputs": [
        {
          "output_type": "stream",
          "name": "stdout",
          "text": [
            "['Saishna', 2, 5, 9, 'India', 'Ashik', 'Geethika', 1]\n"
          ]
        }
      ]
    },
    {
      "cell_type": "code",
      "source": [
        "x[1]=\"India\"\n",
        "x[4]=2\n",
        "print(x)"
      ],
      "metadata": {
        "colab": {
          "base_uri": "https://localhost:8080/"
        },
        "id": "tHLvIi5zr-CA",
        "outputId": "eb487af3-8caa-472c-bb5d-c0c55ccb91f9"
      },
      "execution_count": null,
      "outputs": [
        {
          "output_type": "stream",
          "name": "stdout",
          "text": [
            "['Saishna', 'India', 5, 9, 2, 'Ashik', 'Geethika', 1]\n"
          ]
        }
      ]
    },
    {
      "cell_type": "code",
      "source": [],
      "metadata": {
        "id": "BMcZYHI3sSa4"
      },
      "execution_count": null,
      "outputs": []
    }
  ]
}